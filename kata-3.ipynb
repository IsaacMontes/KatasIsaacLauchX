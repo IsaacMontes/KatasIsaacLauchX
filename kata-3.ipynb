{
 "cells": [
  {
   "cell_type": "markdown",
   "metadata": {},
   "source": [
    "## Ejercicio 1:  Escribir declaraciones if, else, y elif\n",
    "en este ejercicio nos piden ralizar un programa el cual utilice los comandos de if, elif y else para poder determinar que es lo que queremos que nos muestre a la hora de ingreszar un numero al programa."
   ]
  },
  {
   "cell_type": "code",
   "execution_count": 5,
   "metadata": {},
   "outputs": [
    {
     "name": "stdout",
     "output_type": "stream",
     "text": [
      "¡Alerta! ¡Alerta! ¡Un asteroide se acerca a la Tierra!\n"
     ]
    }
   ],
   "source": [
    "asteroide = 49\n",
    "if asteroide > 25:\n",
    "    print('¡Alerta! ¡Alerta! ¡Un asteroide se acerca a la Tierra!')\n",
    "else:\n",
    "    print('¡Ten un buen dia!')"
   ]
  },
  {
   "cell_type": "code",
   "execution_count": 26,
   "metadata": {},
   "outputs": [
    {
     "name": "stdout",
     "output_type": "stream",
     "text": [
      "¡Cuidado este asteroide va muy rapido!\n"
     ]
    }
   ],
   "source": [
    "asteroide = 55\n",
    "\n",
    "if asteroide == 20:\n",
    "    print('¡MIRA al cielo! ¡Hay un espectaculo espacial!')\n",
    "elif asteroide >= 50:\n",
    "    print('¡Cuidado este asteroide va muy rapido!')\n",
    "elif asteroide <= 49 and asteroide >= 20:\n",
    "    print('¡MIRA al cielo! ¡Hay un espectaculo espacial!')\n",
    "elif asteroide <= 19:\n",
    "    print('Este asteroide no dara un espectaculo, !suerte para la proxima!')\n",
    "else:\n",
    "    print('Este asteroide no dara un espectaculo, !suerte para la proxima!')"
   ]
  },
  {
   "cell_type": "markdown",
   "metadata": {},
   "source": [
    "## Ejercicio 2: Uso de operadores and y or\n",
    "En este ejercicio  nos piden realizar un programa el cual tenga los comandos de and y or, que junto con los visto anteriormente podemos hacer mas especificas las declaraciones en nuestro programa."
   ]
  },
  {
   "cell_type": "code",
   "execution_count": 44,
   "metadata": {},
   "outputs": [
    {
     "name": "stdout",
     "output_type": "stream",
     "text": [
      "¡MIRA al cielo! ¡Hay un espectaculo espacial!\n"
     ]
    }
   ],
   "source": [
    "velocidad_asteroide = 25\n",
    "tamano_asteroide = 25\n",
    "\n",
    "if velocidad_asteroide > 25 and tamano_asteroide > 25:\n",
    "    print('¡Alerta! ¡Alerta! Un asteroide muy grande puede impactar la Tierra!')\n",
    "elif velocidad_asteroide >= 20:\n",
    "    print('¡MIRA al cielo! ¡Hay un espectaculo espacial!')\n",
    "elif tamano_asteroide < 25 and velocidad_asteroide <= 25:\n",
    "    print('Este asteroide no dara un espectaculo, !suerte para la proxima!')\n",
    "else:\n",
    "    print('Este asteroide no dara un espectaculo, !suerte para la proxima!')"
   ]
  }
 ],
 "metadata": {
  "interpreter": {
   "hash": "6e327c743a81fc61bf3356739ea1759946a5a073cdd2138cdc2e2b22ab8ca564"
  },
  "kernelspec": {
   "display_name": "Python 3.10.2 64-bit",
   "language": "python",
   "name": "python3"
  },
  "language_info": {
   "codemirror_mode": {
    "name": "ipython",
    "version": 3
   },
   "file_extension": ".py",
   "mimetype": "text/x-python",
   "name": "python",
   "nbconvert_exporter": "python",
   "pygments_lexer": "ipython3",
   "version": "3.10.2"
  },
  "orig_nbformat": 4
 },
 "nbformat": 4,
 "nbformat_minor": 2
}
