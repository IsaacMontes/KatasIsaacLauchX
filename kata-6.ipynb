{
 "cells": [
  {
   "cell_type": "markdown",
   "metadata": {},
   "source": [
    "# Ejercicio1: Crear y usar listas de Python\n",
    "en este ejercicio nos piden crear una lista, y determinar el numero de palabras que contiene esa lista, despues nos miden agregare un elemento mas a la lista y mostrar el antes de agregar y el despues de agregarlo a la lista."
   ]
  },
  {
   "cell_type": "code",
   "execution_count": 65,
   "metadata": {},
   "outputs": [
    {
     "name": "stdout",
     "output_type": "stream",
     "text": [
      "Los planetas del sistema solar son: 8\n",
      "['Mercurio', 'Venus', 'Tierra', 'Marte', 'Jupiter', 'Saturno', 'Urano', 'Neptuno']\n"
     ]
    }
   ],
   "source": [
    "planet = [ 'Mercurio', 'Venus', 'Tierra', 'Marte', 'Jupiter', 'Saturno', 'Urano', 'Neptuno' ]\n",
    "\n",
    "print(f'''Los planetas del sistema solar son: {len(planet)}\n",
    "{planet}''')"
   ]
  },
  {
   "cell_type": "code",
   "execution_count": 66,
   "metadata": {},
   "outputs": [
    {
     "name": "stdout",
     "output_type": "stream",
     "text": [
      "Los planetas del sistema solar son: 9\n",
      "['Mercurio', 'Venus', 'Tierra', 'Marte', 'Jupiter', 'Saturno', 'Urano', 'Neptuno', 'Pluton']\n"
     ]
    }
   ],
   "source": [
    "planet.append('Pluton')\n",
    "\n",
    "print(f'''Los planetas del sistema solar son: {len(planet)}\n",
    "{planet}''')"
   ]
  },
  {
   "cell_type": "markdown",
   "metadata": {},
   "source": [
    "## Ejercicio 2: Trabajando con datos de una lista\n",
    "en este ejercicio nos piden crear una lista, apara posterior mente encontrar un elemento que nosotros le asignemos que busque en la lista ya antes proporcionada, ya que, con ese valor vamos a determinar que tan lejano o sercano esta un planeta con relacion al sol."
   ]
  },
  {
   "cell_type": "code",
   "execution_count": 40,
   "metadata": {},
   "outputs": [],
   "source": [
    "planeta = [ 'Mercurio', 'Venus', 'Tierra', 'Marte', 'Jupiter', 'Saturno', 'Urano', 'Neptuno' ]"
   ]
  },
  {
   "cell_type": "code",
   "execution_count": 92,
   "metadata": {},
   "outputs": [
    {
     "name": "stdout",
     "output_type": "stream",
     "text": [
      "Saturno\n"
     ]
    }
   ],
   "source": [
    "solicitud = input('Por favor ingrece el nombre de un planeta empezando la primera letra con mayusculas: ')\n",
    "print(solicitud)\n"
   ]
  },
  {
   "cell_type": "code",
   "execution_count": 93,
   "metadata": {},
   "outputs": [
    {
     "name": "stdout",
     "output_type": "stream",
     "text": [
      "5\n"
     ]
    }
   ],
   "source": [
    "filtro = planeta.index(solicitud)\n",
    "filtro = abs(filtro)\n",
    "\n",
    "print(filtro)\n"
   ]
  },
  {
   "cell_type": "code",
   "execution_count": 107,
   "metadata": {},
   "outputs": [
    {
     "name": "stdout",
     "output_type": "stream",
     "text": [
      "Los planetas que estan mas cercanos a Saturno con relacion a el sol son:\n",
      "['Mercurio', 'Venus', 'Tierra', 'Marte', 'Jupiter']\n"
     ]
    }
   ],
   "source": [
    "lista = planeta[0:int(filtro)]\n",
    "salida = '''Los planetas que estan mas cercanos a {solicitud} con relacion a el sol son:\n",
    "{lista}'''\n",
    "\n",
    "print(salida.format(solicitud= solicitud, lista= lista))"
   ]
  },
  {
   "cell_type": "code",
   "execution_count": 103,
   "metadata": {},
   "outputs": [
    {
     "name": "stdout",
     "output_type": "stream",
     "text": [
      "Los planetas que estan mas lejanos a Saturno con relacion a el sol son:\n",
      "['Saturno', 'Urano', 'Neptuno']\n"
     ]
    }
   ],
   "source": [
    "lista_2 = planeta[filtro: ]\n",
    "salida_2 ='''Los planetas que estan mas lejanos a {solicitud} con relacion a el sol son:\n",
    "{lista_2}'''\n",
    "\n",
    "print(salida_2.format(solicitud= solicitud, lista_2= lista_2))"
   ]
  }
 ],
 "metadata": {
  "interpreter": {
   "hash": "6e327c743a81fc61bf3356739ea1759946a5a073cdd2138cdc2e2b22ab8ca564"
  },
  "kernelspec": {
   "display_name": "Python 3.10.2 64-bit",
   "language": "python",
   "name": "python3"
  },
  "language_info": {
   "codemirror_mode": {
    "name": "ipython",
    "version": 3
   },
   "file_extension": ".py",
   "mimetype": "text/x-python",
   "name": "python",
   "nbconvert_exporter": "python",
   "pygments_lexer": "ipython3",
   "version": "3.10.2"
  },
  "orig_nbformat": 4
 },
 "nbformat": 4,
 "nbformat_minor": 2
}
