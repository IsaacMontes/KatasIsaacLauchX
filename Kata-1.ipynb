{
 "cells": [
  {
   "cell_type": "markdown",
   "metadata": {},
   "source": [
    "## Tu primer programa\n",
    "En este ejercicio nos piden realizar un programa el cual de la fecha del dia de hoy"
   ]
  },
  {
   "cell_type": "code",
   "execution_count": 2,
   "metadata": {},
   "outputs": [
    {
     "name": "stdout",
     "output_type": "stream",
     "text": [
      "Today´s date is: 2022-02-07\n"
     ]
    }
   ],
   "source": [
    "from datetime import date \n",
    "print(\"Today´s date is: \" + str(date.today()))"
   ]
  },
  {
   "cell_type": "markdown",
   "metadata": {},
   "source": [
    "## Construir un convertidor de unidades\n",
    "en este programa nos piden realizar un conversor de unidades de parsecs a años lus por lo que se tienen que realizar diferentes operaciones matematicas para poer realizar la conevrcion"
   ]
  },
  {
   "cell_type": "code",
   "execution_count": 26,
   "metadata": {},
   "outputs": [
    {
     "name": "stdout",
     "output_type": "stream",
     "text": [
      "Unit converter\n",
      "18 Parsec, is 6.0 Ligthyears\n"
     ]
    }
   ],
   "source": [
    "print(\"Unit converter\")\n",
    "\n",
    "Parsec = input(\"Primer número: \")\n",
    "Ligthyears = 3.26156\n",
    "\n",
    "product = (int(Parsec) * int(1) / int(Ligthyears))\n",
    "\n",
    "print(str(Parsec) + \" Parsec, is \" + str(product) + \" Ligthyears\")"
   ]
  }
 ],
 "metadata": {
  "interpreter": {
   "hash": "6e327c743a81fc61bf3356739ea1759946a5a073cdd2138cdc2e2b22ab8ca564"
  },
  "kernelspec": {
   "display_name": "Python 3.10.2 64-bit",
   "language": "python",
   "name": "python3"
  },
  "language_info": {
   "codemirror_mode": {
    "name": "ipython",
    "version": 3
   },
   "file_extension": ".py",
   "mimetype": "text/x-python",
   "name": "python",
   "nbconvert_exporter": "python",
   "pygments_lexer": "ipython3",
   "version": "3.10.2"
  },
  "orig_nbformat": 4
 },
 "nbformat": 4,
 "nbformat_minor": 2
}
