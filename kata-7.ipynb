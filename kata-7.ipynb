{
 "cells": [
  {
   "cell_type": "markdown",
   "metadata": {},
   "source": [
    "## Ejercicio 1: Creación de un bucle \"while\""
   ]
  },
  {
   "cell_type": "code",
   "execution_count": 18,
   "metadata": {},
   "outputs": [],
   "source": [
    "new_planet = input('ingrese el nombre de el planeta que quiera agregar a la lista.')\n",
    "planets = []\n",
    "\n",
    "while new_planet.lower() != 'done':\n",
    "    if new_planet:\n",
    "        planets.append(new_planet)\n",
    "    new_planet = input('ingrese el nombre de el planeta que quiere agregar a la lista ')\n"
   ]
  },
  {
   "cell_type": "markdown",
   "metadata": {},
   "source": [
    "## Ejercicio 2: Creación de un ciclo \"for\""
   ]
  },
  {
   "cell_type": "code",
   "execution_count": 22,
   "metadata": {},
   "outputs": [
    {
     "name": "stdout",
     "output_type": "stream",
     "text": [
      "                                 lista de planetas\n",
      "----------------------------------------------------------------------------------------------------\n",
      "♦ Mercurio\n",
      "♦ Venus\n",
      "♦ Tierra\n",
      "♦ Marte\n",
      "♦ Jupiter\n",
      "♦ Urano\n",
      "♦ Neptuno\n"
     ]
    }
   ],
   "source": [
    "print('''                                 lista de planetas\n",
    "----------------------------------------------------------------------------------------------------''')\n",
    "for mostrar in planets:\n",
    "        print(f'''♦ {mostrar}''')"
   ]
  }
 ],
 "metadata": {
  "interpreter": {
   "hash": "6e327c743a81fc61bf3356739ea1759946a5a073cdd2138cdc2e2b22ab8ca564"
  },
  "kernelspec": {
   "display_name": "Python 3.10.2 64-bit",
   "language": "python",
   "name": "python3"
  },
  "language_info": {
   "codemirror_mode": {
    "name": "ipython",
    "version": 3
   },
   "file_extension": ".py",
   "mimetype": "text/x-python",
   "name": "python",
   "nbconvert_exporter": "python",
   "pygments_lexer": "ipython3",
   "version": "3.10.2"
  },
  "orig_nbformat": 4
 },
 "nbformat": 4,
 "nbformat_minor": 2
}
