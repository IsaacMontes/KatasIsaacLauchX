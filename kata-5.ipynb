{
 "cells": [
  {
   "cell_type": "markdown",
   "metadata": {},
   "source": [
    "# Ejercicio 1: Utilizar operadores aritméticos\n",
    "En este ejercicio nos piden hacer un programa el cual pueda realizar operaciones matematicas con el propocito de saber cual es la distancia entre un planeta y otro."
   ]
  },
  {
   "cell_type": "code",
   "execution_count": 42,
   "metadata": {},
   "outputs": [
    {
     "name": "stdout",
     "output_type": "stream",
     "text": [
      "Tierra: 149597870 Km.\n",
      "Jupiter: 778547200 Km.\n"
     ]
    }
   ],
   "source": [
    "Tierra = 149597870\n",
    "Jupiter = 778547200\n",
    "\n",
    "resultado = f'''Tierra: {Tierra} Km.\n",
    "Jupiter: {Jupiter} Km.'''\n",
    "\n",
    "print(resultado)"
   ]
  },
  {
   "cell_type": "code",
   "execution_count": 43,
   "metadata": {},
   "outputs": [
    {
     "name": "stdout",
     "output_type": "stream",
     "text": [
      "La distancia entre Jupiter y la Tierra es de 628949330 Km.\n",
      "Y la distancia entre Jupiter y la Tierra es de 390577533.93 millas.\n"
     ]
    }
   ],
   "source": [
    "operacion = Jupiter - Tierra\n",
    "result = operacion * 0.621\n",
    "\n",
    "print(f'''La distancia entre Jupiter y la Tierra es de {operacion} Km.\n",
    "Y la distancia entre Jupiter y la Tierra es de {float(result)} millas.''')"
   ]
  },
  {
   "cell_type": "markdown",
   "metadata": {},
   "source": [
    "# Ejercicio 2: convierte cadenas en números y usa valores absolutos\n",
    "En este ejercicio nos piden crear una aplicacion la cual nos permita introducir la distancia de dos planetas, para despues convertir esos datos en valores, ya que, con ellos realizaremos operaciones matematiccas para determinal la distancia entre los planetas y saber la distancia en el sitema de medicion inglesa. "
   ]
  },
  {
   "cell_type": "code",
   "execution_count": 51,
   "metadata": {},
   "outputs": [
    {
     "name": "stdout",
     "output_type": "stream",
     "text": [
      "palneta 1: 10\n",
      "planeta 2: 20\n"
     ]
    }
   ],
   "source": [
    "Planeta_1 = input(\"primer numero: \")\n",
    "Planeta_2 = input(\"segundo numero: \")\n",
    "\n",
    "print('palneta 1:' + ' ' + str(Planeta_1) + '\\nplaneta 2:' + ' ' +str(Planeta_2))"
   ]
  },
  {
   "cell_type": "code",
   "execution_count": 52,
   "metadata": {},
   "outputs": [
    {
     "name": "stdout",
     "output_type": "stream",
     "text": [
      "palneta 1: 10\n",
      "planeta 2: 20\n"
     ]
    }
   ],
   "source": [
    "Planeta_1 = int(Planeta_1)\n",
    "Planeta_2 = int(Planeta_2)\n",
    "\n",
    "pla1 = 'x'\n",
    "pla2 = 'y'\n",
    "\n",
    "\n",
    "print('palneta 1:' + ' ' + str(Planeta_1) + '\\nplaneta 2:' + ' ' +str(Planeta_2))"
   ]
  },
  {
   "cell_type": "code",
   "execution_count": 57,
   "metadata": {},
   "outputs": [
    {
     "name": "stdout",
     "output_type": "stream",
     "text": [
      "La distancia entre y y x es de 10 Km.\n",
      "Y la distancia entre y y x es de 6.21 millas.\n"
     ]
    }
   ],
   "source": [
    "resta = Planeta_2 - Planeta_1\n",
    "lo_que_sale = resta * 0.621\n",
    "las_millas = abs(lo_que_sale) \n",
    "\n",
    "print(f'''La distancia entre {pla2} y {pla1} es de {resta} Km.\n",
    "Y la distancia entre {pla2} y {pla1} es de {las_millas} millas.''')\n"
   ]
  },
  {
   "cell_type": "markdown",
   "metadata": {},
   "source": [
    "## Aplicacion: ♦Astroladora♦"
   ]
  },
  {
   "cell_type": "code",
   "execution_count": 67,
   "metadata": {},
   "outputs": [
    {
     "name": "stdout",
     "output_type": "stream",
     "text": [
      "                                      Calculador de distancias\n",
      "                                           entre planetas\n",
      "-----------------------------------------------------------------------------------------------------------------------\n",
      "Tierra, tiene una distancia al sol de: 149600000            Saturno, tiene una distancia al sol de: 1433500000\n",
      "\n",
      "La distancia entre Saturno y Tierra es de 1283900000 Km.\n",
      "Y la distancia entre Saturno y Tierra es de 797301900.0 millas.\n",
      "\n",
      "¡muchas gracias por utilizar mi programa :D!\n"
     ]
    }
   ],
   "source": [
    "Planeta_1 = input(\"primer numero: \")\n",
    "Planeta_2 = input(\"segundo numero: \")\n",
    "\n",
    "Planeta_1 = int(Planeta_1)\n",
    "Planeta_2 = int(Planeta_2)\n",
    "\n",
    "pla1 = 'Tierra'\n",
    "pla2 = 'Saturno'\n",
    "\n",
    "resta = Planeta_2 - Planeta_1\n",
    "lo_que_sale = resta * 0.621\n",
    "las_millas = abs(lo_que_sale) \n",
    "\n",
    "titulo = '                                      Calculador de distancias\\n                                           entre planetas'\n",
    "\n",
    "texto ='''La distancia entre {pla2} y {pla1} es de {resta} Km.\n",
    "Y la distancia entre {pla2} y {pla1} es de {las_millas} millas.'''\n",
    "\n",
    "aplicacion= f'''{titulo}\n",
    "-----------------------------------------------------------------------------------------------------------------------\n",
    "{pla1}, tiene una distancia al sol de: {Planeta_1}            {pla2}, tiene una distancia al sol de: {Planeta_2}\n",
    "\n",
    "{texto}\n",
    "\n",
    "¡muchas gracias por utilizar mi programa :D!'''\n",
    "print(aplicacion.format(pla2= pla2, pla1= pla1, resta= resta, las_millas= las_millas))"
   ]
  }
 ],
 "metadata": {
  "interpreter": {
   "hash": "6e327c743a81fc61bf3356739ea1759946a5a073cdd2138cdc2e2b22ab8ca564"
  },
  "kernelspec": {
   "display_name": "Python 3.10.2 64-bit",
   "language": "python",
   "name": "python3"
  },
  "language_info": {
   "codemirror_mode": {
    "name": "ipython",
    "version": 3
   },
   "file_extension": ".py",
   "mimetype": "text/x-python",
   "name": "python",
   "nbconvert_exporter": "python",
   "pygments_lexer": "ipython3",
   "version": "3.10.2"
  },
  "orig_nbformat": 4
 },
 "nbformat": 4,
 "nbformat_minor": 2
}
